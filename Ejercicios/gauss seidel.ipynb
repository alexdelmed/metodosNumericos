{
 "cells": [
  {
   "cell_type": "code",
   "execution_count": 0,
   "metadata": {
    "collapsed": false
   },
   "outputs": [
   ],
   "source": [
    "    def getX1(x2,x3):\n",
    "    return (8+0.2*x2+0.5*x3)/3\n",
    "\n",
    "def getX2(x1,x3):\n",
    "    return (-19.5-0.1*x1-0.4*x3)/7\n",
    "\n",
    "def getX3(x1,x2):\n",
    "    return (72.4-0.4*x1+0.1*x2)/10\n",
    "\n",
    "x1=0\n",
    "x2=0\n",
    "x3=0\n",
    "\n",
    "error=0.00001\n",
    "\n",
    "x1a = 0.00001\n",
    "x2a = 0.00001\n",
    "x3a = 0.00001\n",
    "for i in range(100):\n",
    "    x1 = getX1(x2,x3)\n",
    "    x2 = getX2(x1,x3)\n",
    "    x3 = getX3(x1,x2)\n",
    "    print(\"itera %d\"%i,x1,x2,x3)\n",
    "    ex1 = abs((x1a-x1)/x1a)\n",
    "    ex2 = abs((x2a-x2)/x2a)\n",
    "    ex3 = abs((x3a-x3)/x3a)\n",
    "    if ex1 < error and ex2 < error and ex3 < error:\n",
    "        break\n",
    "    x1a = x1\n",
    "    x2a = x2\n",
    "    x3a = x3\n",
    "print(\"valores buenos: \", x1, x2, x3)"
   ]
  }
 ],
 "metadata": {
  "kernelspec": {
   "display_name": "Python 3 (Anaconda 5)",
   "language": "python",
   "name": "anaconda5"
  }
 },
 "nbformat": 4,
 "nbformat_minor": 0
}