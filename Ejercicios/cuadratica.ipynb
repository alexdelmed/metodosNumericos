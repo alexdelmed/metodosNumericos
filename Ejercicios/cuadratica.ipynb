{
 "cells": [
  {
   "cell_type": "markdown",
   "metadata": {
    "collapsed": false
   },
   "source": [
    "# Cuadratica"
   ]
  },
  {
   "cell_type": "code",
   "execution_count": 6,
   "metadata": {
    "collapsed": false
   },
   "outputs": [
    {
     "name": "stdout",
     "output_type": "stream",
     "text": [
      "[(5.23606797749979, 0), (0.7639320225002102, 0)]\n"
     ]
    }
   ],
   "source": [
    "import math\n",
    "\n",
    "def cuadratica(a,b,c):\n",
    "    discriminante = b**2 - 4*a*c\n",
    "    if discriminante > 0:\n",
    "        rdiscriminantes = math.sqrt(discriminante)\n",
    "        x1 = (-b + rdiscriminantes)/2*a\n",
    "        x2 = (-b - rdiscriminantes)/2*a\n",
    "        return [(x1,0),(x2,0)]\n",
    "    if discriminante == 0:\n",
    "        x = -b / 2*a\n",
    "        return[(x,0),(x,0)]\n",
    "    xr = -b / 2*a\n",
    "    xi = math.sqrt(abs(discriminante)) / 2*a\n",
    "    return[(xr,xi),(xr,-xi)]\n",
    "\n",
    "raices = cuadratica(2,-3,0.5)\n",
    "\n",
    "print(raices)"
   ]
  },
  {
   "cell_type": "code",
   "execution_count": 0,
   "metadata": {
    "collapsed": false
   },
   "outputs": [
   ],
   "source": [
   ]
  }
 ],
 "metadata": {
  "kernelspec": {
   "display_name": "Python 3 (Anaconda 5)",
   "language": "python",
   "name": "anaconda5"
  },
  "language_info": {
   "codemirror_mode": {
    "name": "ipython",
    "version": 3
   },
   "file_extension": ".py",
   "mimetype": "text/x-python",
   "name": "python",
   "nbconvert_exporter": "python",
   "pygments_lexer": "ipython3",
   "version": "3.6.5"
  }
 },
 "nbformat": 4,
 "nbformat_minor": 0
}