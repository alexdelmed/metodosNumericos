{
 "cells": [
  {
   "cell_type": "markdown",
   "metadata": {
    "collapsed": false
   },
   "source": [
    "# Newton Raphson"
   ]
  },
  {
   "cell_type": "markdown",
   "metadata": {
    "collapsed": false
   },
   "source": [
    "$f´ =  fx0 / (x0 - xr) $\n",
    "\n",
    "$x0 - xr = fx0 / f´ $\n",
    "\n",
    "$xr = x0 - (fx0 / f´)$\n"
   ]
  },
  {
   "cell_type": "raw",
   "metadata": {
    "collapsed": false
   },
   "source": [
    "Encontrar la derivada y usar la ecuacion para el siguiente punto"
   ]
  },
  {
   "cell_type": "code",
   "execution_count": 4,
   "metadata": {
    "collapsed": false
   },
   "outputs": [
    {
     "name": "stdout",
     "output_type": "stream",
     "text": [
      "El valor de ña raiz es 1.50196\n",
      "Numero de iteraciones 4\n"
     ]
    }
   ],
   "source": [
    "def f(x):\n",
    "    return 2*x**2 - 5*x +3\n",
    "def fprima(x):\n",
    "    return 4*x - 5\n",
    "\n",
    "x0 = 2\n",
    "itera = 0\n",
    "for i in range(100):\n",
    "    itera += 1\n",
    "    xr = x0 - f(x0)/fprima(x0)\n",
    "    fxr = f(xr)\n",
    "    if abs(fxr) < 0.001:\n",
    "        break\n",
    "    x0 = xr\n",
    "\n",
    "print(\"El valor de ña raiz es %0.5f\"%x0)\n",
    "print(\"Numero de iteraciones %i\"%itera)"
   ]
  },
  {
   "cell_type": "code",
   "execution_count": 0,
   "metadata": {
    "collapsed": false
   },
   "outputs": [
   ],
   "source": [
   ]
  }
 ],
 "metadata": {
  "kernelspec": {
   "display_name": "Python 3 (Anaconda 5)",
   "language": "python",
   "name": "anaconda5"
  },
  "language_info": {
   "codemirror_mode": {
    "name": "ipython",
    "version": 3
   },
   "file_extension": ".py",
   "mimetype": "text/x-python",
   "name": "python",
   "nbconvert_exporter": "python",
   "pygments_lexer": "ipython3",
   "version": "3.6.5"
  }
 },
 "nbformat": 4,
 "nbformat_minor": 0
}