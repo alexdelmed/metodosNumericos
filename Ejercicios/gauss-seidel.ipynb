{
 "cells": [
  {
   "cell_type": "code",
   "execution_count": 1,
   "metadata": {
    "collapsed": false
   },
   "outputs": [
    {
     "name": "stdout",
     "output_type": "stream",
     "text": [
      "itera 0 2.6666666666666665 -2.8238095238095235 7.10509523809524\n",
      "itera 1 3.6625952380952387 -3.244042517006803 7.061055765306122\n",
      "itera 2 3.6272397930839 -3.2410208979186916 7.062500199297458\n",
      "itera 3 3.627681973354997 -3.241109753864926 7.062481623527153\n",
      "itera 4 3.6276729536635304 -3.2411085635396018 7.062481996218064\n",
      "valores buenos:  3.6276729536635304 -3.2411085635396018 7.062481996218064\n"
     ]
    }
   ],
   "source": [
    "def getX1(x2,x3):\n",
    "    return (8+0.2*x2+0.5*x3)/3\n",
    "\n",
    "def getX2(x1,x3):\n",
    "    return (-19.5-0.1*x1-0.4*x3)/7\n",
    "\n",
    "def getX3(x1,x2):\n",
    "    return (72.4-0.4*x1+0.1*x2)/10\n",
    "\n",
    "x1=0\n",
    "x2=0\n",
    "x3=0\n",
    "\n",
    "error=0.00001\n",
    "\n",
    "x1a = 0.00001\n",
    "x2a = 0.00001\n",
    "x3a = 0.00001\n",
    "for i in range(100):\n",
    "    x1 = getX1(x2,x3)\n",
    "    x2 = getX2(x1,x3)\n",
    "    x3 = getX3(x1,x2)\n",
    "    print(\"itera %d\"%i,x1,x2,x3)\n",
    "    ex1 = abs((x1a-x1)/x1a)\n",
    "    ex2 = abs((x2a-x2)/x2a)\n",
    "    ex3 = abs((x3a-x3)/x3a)\n",
    "    if ex1 < error and ex2 < error and ex3 < error:\n",
    "        break\n",
    "    x1a = x1\n",
    "    x2a = x2\n",
    "    x3a = x3\n",
    "print(\"valores buenos: \", x1, x2, x3)"
   ]
  },
  {
   "cell_type": "code",
   "execution_count": 0,
   "metadata": {
    "collapsed": false
   },
   "outputs": [
   ],
   "source": [
   ]
  }
 ],
 "metadata": {
  "kernelspec": {
   "display_name": "Python 3 (Anaconda 5)",
   "language": "python",
   "name": "anaconda5"
  },
  "language_info": {
   "codemirror_mode": {
    "name": "ipython",
    "version": 3
   },
   "file_extension": ".py",
   "mimetype": "text/x-python",
   "name": "python",
   "nbconvert_exporter": "python",
   "pygments_lexer": "ipython3",
   "version": "3.6.5"
  }
 },
 "nbformat": 4,
 "nbformat_minor": 0
}