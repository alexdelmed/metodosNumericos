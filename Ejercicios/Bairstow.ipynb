{
 "cells": [
  {
   "cell_type": "markdown",
   "metadata": {
    "collapsed": false
   },
   "source": [
    "# Bairstow"
   ]
  },
  {
   "cell_type": "code",
   "execution_count": 6,
   "metadata": {
    "collapsed": false
   },
   "outputs": [
    {
     "name": "stdout",
     "output_type": "stream",
     "text": [
      "[-4.5, 1]\n",
      "[-4.5, 1]\n",
      "[6.25, -4.5, 1]\n",
      "[0.375, 6.25, -4.5, 1]\n",
      "[-10.5, 0.375, 6.25, -4.5, 1]\n",
      "[11.375, -10.5, 0.375, 6.25, -4.5, 1]\n",
      "[32.625, -16.375, -4.875, 10.75, -5.5, 1]\n"
     ]
    }
   ],
   "source": [
    "#ejemplo\n",
    "# f(x) = x^5 - 3.5x^4 + 2.75x^3 + 2.125x^2 - 3.875x + 1.25\n",
    "# [1.25,-3.875,2.125,2.75,-3.5,1]\n",
    "def bn(a):\n",
    "    return a[-1]\n",
    "def bn1(a,b,r):\n",
    "    return a[-2] + r*b\n",
    "\n",
    "# [bn1, bn]\n",
    "def bi(i,a,r,s,b):\n",
    "    return a[i] + r*b[0] + s*b[1]\n",
    "\n",
    "def cn(b):\n",
    "    return bn(b)\n",
    "def cn1(b,c,r):\n",
    "    return bn1(b,c,r)\n",
    "def ci(i,b,r,s,c):\n",
    "    return bi(i,b,r,s,c)\n",
    "\n",
    "r=-1\n",
    "s=-1\n",
    "b = []\n",
    "c=[]\n",
    "b.append(bn([1.25,-3.875,2.125,2.75,-3.5,1]))\n",
    "b.insert(0, bn1([1.25,-3.875,2.125,2.75,-3.5,1],b[0],r))\n",
    "print(b)\n",
    "\n",
    "for i in reversed(range(0,4)):\n",
    "    print(b)\n",
    "    b.insert(0,bi(i,[1.25,-3.875,2.125,2.75,-3.5,1],r,s,b))\n",
    "    \n",
    "c.append(cn(b))\n",
    "c.insert(0,cn1(b,c[0],r))\n",
    "\n",
    "for i in reversed(range(0,4)):\n",
    "    c.insert(0,ci(i,b,r,s,c))\n",
    "    \n",
    "print(b)\n",
    "print(c)\n"
   ]
  },
  {
   "cell_type": "markdown",
   "metadata": {
    "collapsed": false
   },
   "source": [
    "# Ejercicio  \n",
    "\n",
    "Tenemos $f(x) = x^5 -3.5 x^4 + 2.75x^3 + 2.125 x^2 - 3.875x + 1.25$\n",
    "los varlores  \n",
    "$b_s = 1$"
   ]
  },
  {
   "cell_type": "code",
   "execution_count": 2,
   "metadata": {
    "collapsed": false
   },
   "outputs": [
    {
     "name": "stdout",
     "output_type": "stream",
     "text": [
      "-0.00020233029245561395\n",
      "-0.00031359159701717474\n"
     ]
    }
   ],
   "source": [
    "#Ejemplo Bairstow\n",
    "#f(x) = x^5 -3.5 x^4 + 2.75x^3 + 2.125 x^2 - 3.875x + 1.25\n",
    "\n",
    "def bn(a):\n",
    "    return a[-1]\n",
    "\n",
    "def bn1(a,b, r):\n",
    "    return a[-2] + r*b\n",
    "\n",
    "def bi(i,a,r,s,b):\n",
    "    return a[i] + r*b[0] + s*b[1]\n",
    "\n",
    "def cn(b):\n",
    "    return bn(b)\n",
    "\n",
    "def cn1(b,c,r):\n",
    "    return bn1(b,c,r)\n",
    "\n",
    "def ci(i,b,r,s,c):\n",
    "    return bi(i,b,r,s,c)\n",
    "\n",
    "def deltaS(b,c):\n",
    "    return ((-1*b[1]/c[2]) + (b[0]/c[1]))/((c[3]/c[2]) - (c[2]/c[1]))\n",
    "\n",
    "def deltaR(b,c,dS):\n",
    "    return -1*b[0]/c[1] - ((c[2]/c[1]) * dS)\n",
    "\n",
    "\n",
    "r = -1\n",
    "s = -1\n",
    "raices = []\n",
    "\n",
    "for i in range(100):\n",
    "    b = []\n",
    "    c = []\n",
    "\n",
    "    b.append(bn([1.25,-3.875,2.125,2.75,-3.5,1]))\n",
    "    b.insert(0, bn1([1.25,-3.875,2.125,2.75,-3.5,1],b[0], r))\n",
    "\n",
    "    for i in reversed(range(0,4)):\n",
    "        b.insert(0, bi(i,[1.25,-3.875,2.125,2.75,-3.5,1], r, s, b))\n",
    "\n",
    "    c.append(cn(b))\n",
    "    c.insert(0, cn1((b), c[0], r))\n",
    "\n",
    "    for i in reversed(range(0,4)):\n",
    "        c.insert(0, ci(i,b,r,s,c))\n",
    "\n",
    "    dS = deltaS(b,c)\n",
    "    dR = deltaR(b,c,dS)\n",
    "    \n",
    "    r = r + dR\n",
    "    s = s + dS\n",
    "\n",
    "    if abs(dS) < 0.01 and abs(dR) < 0.01:\n",
    "        break\n",
    "    \n",
    "\n",
    "print(dS)\n",
    "print(dR)\n",
    "\n",
    "#Calcular raices\n",
    "def cuadratica(r,s):\n",
    "    "
   ]
  },
  {
   "cell_type": "code",
   "execution_count": 1,
   "metadata": {
    "collapsed": false
   },
   "outputs": [
    {
     "ename": "SyntaxError",
     "evalue": "invalid syntax (<ipython-input-1-0e774674d78d>, line 40)",
     "output_type": "error",
     "traceback": [
      "\u001b[0;36m  File \u001b[0;32m\"<ipython-input-1-0e774674d78d>\"\u001b[0;36m, line \u001b[0;32m40\u001b[0m\n\u001b[0;31m    while True:\u001b[0m\n\u001b[0m        ^\u001b[0m\n\u001b[0;31mSyntaxError\u001b[0m\u001b[0;31m:\u001b[0m invalid syntax\n"
     ]
    }
   ],
   "source": [
    "#Ejemplo Bairstow \n",
    "# f(x) = x^5 -3.5x^4 +2.75x^3 +2.125x^2 -3.875x + 1.25\n",
    "#[1.25,-3.875,2.125,2.75,-3.5,1]\n",
    "import math\n",
    "\n",
    "def cuadratica(a,b,c):\n",
    "    discriminante = b**2 - 4*a*c\n",
    "    if discriminante > 0:\n",
    "        rdiscriminante = math.sqrt(discriminante)\n",
    "        x1 = (-b + rdiscriminante )/(2*a)\n",
    "        x2 = (-b - rdiscriminante )/(2*a)\n",
    "        return [(x1,0),(x2,0)]\n",
    "    if discriminante == 0:\n",
    "        x = -b / (2*a)\n",
    "        return [(x,0),(x,0)]\n",
    "    xr = -b / (2*a)\n",
    "    xi = math.sqrt(abs(discriminante)) / (2*a)\n",
    "    return [(xr,xi),(xr,-xi)]\n",
    "\n",
    "def bn(a):\n",
    "    return a[-1]\n",
    "def bn1(a,b,r):\n",
    "    return a[-2] + r*b\n",
    "# [bn1, bn]\n",
    "def bi(i,a,r,s,b):\n",
    "    return a[i] + r*b[0] + s*b[1]\n",
    "\n",
    "def cn(b):\n",
    "    return bn(b)\n",
    "def cn1(b,c,r):\n",
    "    return bn1(b,c,r)\n",
    "def ci(i,b,r,s,c):\n",
    "    return bi(i,b,r,s,c)\n",
    "\n",
    "r = -1\n",
    "s = -1\n",
    "b = []\n",
    "raices = []\n",
    "a = [-998.46,464,-35.51,-8.6,1 #orden inverso\n",
    "while True:\n",
    "    for i in range(100):\n",
    "        b = []\n",
    "        c = []\n",
    "        b.append(bn(a))\n",
    "        b.insert(0, bn1(a,b[0],r))\n",
    "        limit = len(a) - 2\n",
    "        for i in reversed(range(0,limit)):\n",
    "            b.insert(0,bi(i,a,r,s,b))\n",
    "\n",
    "        c.append(cn(b))\n",
    "        c.insert(0,cn1(b,c[0],r))\n",
    "        for i in reversed(range(0,limit)):\n",
    "            c.insert(0,ci(i,b,r,s,c))\n",
    "\n",
    "        def deltaS(b,c):\n",
    "            return ((-b[1]/c[2]) + (b[0]/c[1])) / ((c[3]/c[2]) - (c[2]/c[1]))\n",
    "\n",
    "        def deltaR(b,c,dS):\n",
    "            return (-b[0]/c[1]) - ((c[2]/c[1])* dS)\n",
    "\n",
    "        dS = deltaS(b,c)\n",
    "        dR = deltaR(b,c,dS)\n",
    "\n",
    "        if abs(dS) < 0.01 and abs(dR) < 0.01:\n",
    "            break\n",
    "        r = r + dR\n",
    "        s = s + dS\n",
    "\n",
    "    raices.insert(0,cuadratica(1,-r,-s))\n",
    "\n",
    "    #Actualizar el siguiente polinomio\n",
    "    a = b[2:]\n",
    "    grade = len(a)\n",
    "    if grade == 3: #El polinomio es de grado 2\n",
    "        raices.insert(0,cuadratica(a[2],a[1],a[0]))\n",
    "        break\n",
    "    if grade == 2: #El polinomio es de grado 1\n",
    "        raices.insert(0,-a[0]/a[1])\n",
    "        break\n",
    "\n",
    "print(raices)"
   ]
  },
  {
   "cell_type": "code",
   "execution_count": 0,
   "metadata": {
    "collapsed": false
   },
   "outputs": [
   ],
   "source": [
   ]
  }
 ],
 "metadata": {
  "kernelspec": {
   "display_name": "Python 3 (Anaconda 5)",
   "language": "python",
   "name": "anaconda5"
  },
  "language_info": {
   "codemirror_mode": {
    "name": "ipython",
    "version": 3
   },
   "file_extension": ".py",
   "mimetype": "text/x-python",
   "name": "python",
   "nbconvert_exporter": "python",
   "pygments_lexer": "ipython3",
   "version": "3.6.5"
  }
 },
 "nbformat": 4,
 "nbformat_minor": 0
}