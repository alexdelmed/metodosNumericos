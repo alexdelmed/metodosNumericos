{
 "cells": [
  {
   "cell_type": "markdown",
   "metadata": {
    "collapsed": false
   },
   "source": [
    "# Punto Fijo"
   ]
  },
  {
   "cell_type": "markdown",
   "metadata": {
    "collapsed": false
   },
   "source": [
    "Despejando\n",
    "\n",
    "$ 2x^2 - 5x + 3 = 0 $\n",
    "\n",
    "2*x**2 + 3 =5*x\n",
    "x = (2*x**2 + 3)/5\n",
    "\n",
    "x1 - x0 = 0\n"
   ]
  },
  {
   "cell_type": "code",
   "execution_count": 2,
   "metadata": {
    "collapsed": false
   },
   "outputs": [
    {
     "name": "stdout",
     "output_type": "stream",
     "text": [
      "La raiz es 0.60000\n",
      "Numero de iteraciones101\n"
     ]
    }
   ],
   "source": [
    "def xnew (xprev):\n",
    "    return (2*xprev**2 + 3)/5\n",
    "x0 = 0\n",
    "iteraciones = 1\n",
    "x1 = 0\n",
    "for i in range(100):\n",
    "    x1 = xnew(x0)\n",
    "    if( x1 - x0) < 0.0001:\n",
    "        break\n",
    "    x1 = xnew(x0)\n",
    "    iteraciones += 1\n",
    "    \n",
    "print(\"La raiz es %.5f\"%x1)\n",
    "print(\"Numero de iteraciones%d\"%iteraciones)\n"
   ]
  },
  {
   "cell_type": "code",
   "execution_count": 0,
   "metadata": {
    "collapsed": false
   },
   "outputs": [
   ],
   "source": [
   ]
  }
 ],
 "metadata": {
  "kernelspec": {
   "display_name": "Python 3 (Anaconda 5)",
   "language": "python",
   "name": "anaconda5"
  },
  "language_info": {
   "codemirror_mode": {
    "name": "ipython",
    "version": 3
   },
   "file_extension": ".py",
   "mimetype": "text/x-python",
   "name": "python",
   "nbconvert_exporter": "python",
   "pygments_lexer": "ipython3",
   "version": "3.6.5"
  }
 },
 "nbformat": 4,
 "nbformat_minor": 0
}