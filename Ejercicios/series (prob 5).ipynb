{
 "cells": [
  {
   "cell_type": "markdown",
   "metadata": {
    "collapsed": false
   },
   "source": [
    "problema 5 de serie (tarea)"
   ]
  },
  {
   "cell_type": "code",
   "execution_count": 2,
   "metadata": {
    "collapsed": false
   },
   "outputs": [
    {
     "name": "stdout",
     "output_type": "stream",
     "text": [
      "MATRIX AMPLIADA \n",
      "\n",
      "[1.0, 1.0, 1.0, 120.0]\n",
      "[0.0, 1.0, 0.0, 30.0]\n",
      "[-0.0, -0.0, 1.0, 40.0]\n",
      "\n",
      "SOLUCIONES B: \n",
      "\n",
      "X1 = [50.0]\n",
      "X2 = [30.0]\n",
      "X3 = [40.0]\n"
     ]
    }
   ],
   "source": [
    "# Input ampliada incluye el vector de valores esperados C\n",
    "def createMatrix(m,n, valor=0):\n",
    "    C = []\n",
    "    for i in range(m):\n",
    "        C.append([])                            #could be c.append([valor]*n)\n",
    "        for j in range(n):\n",
    "            C[i].append(valor)\n",
    "    return C\n",
    "\n",
    "MA = createMatrix(3,4,0)\n",
    "MA[0] = [1, 1, 1, 120]\n",
    "MA[1] = [1, 1, -2, 0]\n",
    "MA[2] = [3, 5, 3, 420]\n",
    "\n",
    "\n",
    "for i in range(3):\n",
    "    pivote = MA[i][i]\n",
    "    if pivote == 0:\n",
    "        for j in range(i+1,3):\n",
    "            if MA[j][i] != 0:\n",
    "                T = MA[j]\n",
    "                MA[j] = MA[i]\n",
    "                MA[i] = T\n",
    "                pivote = MA[i][i]\n",
    "                break\n",
    "    for k in range(4):\n",
    "        MA[i][k] = (1/pivote)*MA[i][k]\n",
    "    for j in range(i+1,3):\n",
    "        C = (-1) * MA[j][i]\n",
    "        T = createMatrix(1,4)\n",
    "        for k in range(4):\n",
    "            T[0][k] = C * MA[i][k]\n",
    "        for k in range(4):\n",
    "            MA[j][k] += T[0][k]\n",
    "\n",
    "print(\"MATRIX AMPLIADA \\n\")\n",
    "for fila in range(len(MA)):\n",
    "    print(MA[fila])\n",
    "\n",
    "B = createMatrix(3,1,0)\n",
    "for i in range(2,-1,-1):\n",
    "    B[i][0] = MA[i][3]\n",
    "    for j in range(2,-1,-1):\n",
    "        if i==j:\n",
    "            break\n",
    "        B[i][0] -= MA[i][j]*B[j][0]\n",
    "\n",
    "print(\"\\nSOLUCIONES B: \\n\")\n",
    "for fila in range(len(B)):\n",
    "    print(\"X{0} = {1}\".format(fila+1,B[fila]))"
   ]
  },
  {
   "cell_type": "code",
   "execution_count": 0,
   "metadata": {
    "collapsed": false
   },
   "outputs": [
   ],
   "source": [
   ]
  }
 ],
 "metadata": {
  "kernelspec": {
   "display_name": "Python 3 (Anaconda 5)",
   "language": "python",
   "name": "anaconda5"
  },
  "language_info": {
   "codemirror_mode": {
    "name": "ipython",
    "version": 3
   },
   "file_extension": ".py",
   "mimetype": "text/x-python",
   "name": "python",
   "nbconvert_exporter": "python",
   "pygments_lexer": "ipython3",
   "version": "3.6.5"
  }
 },
 "nbformat": 4,
 "nbformat_minor": 0
}