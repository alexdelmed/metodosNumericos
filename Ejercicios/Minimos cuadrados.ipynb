{
 "cells": [
  {
   "cell_type": "markdown",
   "metadata": {
    "collapsed": false
   },
   "source": [
    "Minimos cuadrados"
   ]
  },
  {
   "cell_type": "code",
   "execution_count": 3,
   "metadata": {
    "collapsed": false
   },
   "outputs": [
    {
     "name": "stdout",
     "output_type": "stream",
     "text": [
      "0.9346153846153843 0.35961538461538645\n"
     ]
    }
   ],
   "source": [
    "x = [1,2,3,5,6,8,9,10]\n",
    "y = [1.5,2,4,4.6,4.7,8.5,8.8,9.9]\n",
    "\n",
    "sx = sum(x)\n",
    "sy = sum(y)\n",
    "n = 8\n",
    "sxy = sum(x[i]*y[i] for i in range(n))\n",
    "sx2 = sum(x[i]**2 for i in range(n))\n",
    "csx = sx**2\n",
    "\n",
    "m = (sxy - ((sx*sy)/n)) / (sx2 - (csx/n))\n",
    "b = sy/n - m*sx/n\n",
    "\n",
    "print(m,b)"
   ]
  },
  {
   "cell_type": "code",
   "execution_count": 0,
   "metadata": {
    "collapsed": false
   },
   "outputs": [
   ],
   "source": [
   ]
  }
 ],
 "metadata": {
  "kernelspec": {
   "display_name": "Python 3 (Anaconda 5)",
   "language": "python",
   "name": "anaconda5"
  },
  "language_info": {
   "codemirror_mode": {
    "name": "ipython",
    "version": 3
   },
   "file_extension": ".py",
   "mimetype": "text/x-python",
   "name": "python",
   "nbconvert_exporter": "python",
   "pygments_lexer": "ipython3",
   "version": "3.6.5"
  }
 },
 "nbformat": 4,
 "nbformat_minor": 0
}