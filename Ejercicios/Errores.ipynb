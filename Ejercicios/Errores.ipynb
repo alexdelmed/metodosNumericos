{
 "cells": [
  {
   "cell_type": "markdown",
   "metadata": {
    "collapsed": false
   },
   "source": [
    "# Errores"
   ]
  },
  {
   "cell_type": "markdown",
   "metadata": {
    "collapsed": false
   },
   "source": [
    "Vr = Ve + Error\n",
    "\n",
    "Error = Vreal - V estim\n",
    "\n",
    "E% = (Vreal - Ve)/Vr"
   ]
  },
  {
   "cell_type": "raw",
   "metadata": {
    "collapsed": false
   },
   "source": [
    "(Vanterior - Vactual)/vanterior  =  0"
   ]
  },
  {
   "cell_type": "raw",
   "metadata": {
    "collapsed": false
   },
   "source": [
    "Presicion:\n",
    "Exactitud    real  y  Vestimado\n",
    "\n",
    "y = x^3 - 7x^2 + 8x + .35          o             y = ((1.37)^2 - 7(1.78) + 8) (1.37) + .35\n",
    "x= 1.37                                          x=1.37\n",
    "\n",
    "y = 0.78                                         y = 0.73"
   ]
  },
  {
   "cell_type": "markdown",
   "metadata": {
    "collapsed": false
   },
   "source": [
    "# Equiacion a la antigua"
   ]
  },
  {
   "cell_type": "code",
   "execution_count": 6,
   "metadata": {
    "collapsed": false
   },
   "outputs": [
    {
     "name": "stdout",
     "output_type": "stream",
     "text": [
      "0.7430530000000001\n"
     ]
    }
   ],
   "source": [
    "def y(x):\n",
    "    return x**3 - 7*x**2 + 8*x + 0.35\n",
    "print(y(1.37))"
   ]
  },
  {
   "cell_type": "code",
   "execution_count": 0,
   "metadata": {
    "collapsed": false
   },
   "outputs": [
   ],
   "source": [
   ]
  }
 ],
 "metadata": {
  "kernelspec": {
   "display_name": "Python 3 (Anaconda 5)",
   "language": "python",
   "name": "anaconda5"
  },
  "language_info": {
   "codemirror_mode": {
    "name": "ipython",
    "version": 3
   },
   "file_extension": ".py",
   "mimetype": "text/x-python",
   "name": "python",
   "nbconvert_exporter": "python",
   "pygments_lexer": "ipython3",
   "version": "3.6.5"
  }
 },
 "nbformat": 4,
 "nbformat_minor": 0
}