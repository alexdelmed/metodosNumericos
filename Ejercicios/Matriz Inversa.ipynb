{
 "cells": [
  {
   "cell_type": "markdown",
   "metadata": {
    "collapsed": false
   },
   "source": [
    "# Matriz inversa"
   ]
  },
  {
   "cell_type": "raw",
   "metadata": {
    "collapsed": false
   },
   "source": [
    "A^-1 = 1 / |A|   adj (A)\n",
    "\n",
    "|A| = E(-1)^i+j  Aij Dij\n",
    "\n",
    "A^t = cambia renglones por columna\n",
    "\n",
    "adj(A)\n",
    "\n",
    "A = | 1  1  1 |\n",
    "    | 1  2  3 |\n",
    "    | 1  4  9 |\n",
    "    \n",
    "adj(A) = | Dij  Dij  Dij|   =   |6  -6  2|\n",
    "         |  .                   |-5  8 -3|    (cancela las lineas de ese numero, y se multiplica 2x9  - 4x3= 6)\n",
    "         |  .                   |1  -2  1|\n",
    "         \n",
    "         \n",
    "A^-1 = 1/|A|  adj(A^t)\n",
    "\n",
    "|A| = 2\n",
    "A^t = | 1 1 1\n",
    "      | 1 2 4\n",
    "      | 1 3 9\n",
    "      \n",
    "A^-1 =| 3 -5/2  1/2\n",
    "      | -3 4    -1\n",
    "      | 1  -3/   1/2"
   ]
  },
  {
   "cell_type": "code",
   "execution_count": 0,
   "metadata": {
    "collapsed": false
   },
   "outputs": [
   ],
   "source": [
    "1- seleccionar un renglon\n",
    "2- (1)(6) - (1)(6) + (1)(2) = 2"
   ]
  }
 ],
 "metadata": {
  "kernelspec": {
   "display_name": "Python 3 (Anaconda 5)",
   "language": "python",
   "name": "anaconda5"
  },
  "language_info": {
   "codemirror_mode": {
    "name": "ipython",
    "version": 3
   },
   "file_extension": ".py",
   "mimetype": "text/x-python",
   "name": "python",
   "nbconvert_exporter": "python",
   "pygments_lexer": "ipython3",
   "version": "3.6.5"
  }
 },
 "nbformat": 4,
 "nbformat_minor": 0
}