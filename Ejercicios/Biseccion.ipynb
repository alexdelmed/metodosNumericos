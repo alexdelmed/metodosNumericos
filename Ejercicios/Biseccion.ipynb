{
 "cells": [
  {
   "cell_type": "markdown",
   "metadata": {
    "collapsed": false
   },
   "source": [
    "# Biseccion"
   ]
  },
  {
   "cell_type": "markdown",
   "metadata": {
    "collapsed": false
   },
   "source": [
    "Dado un rango inicial donde haya un cambio de signo, dividir el rango por mitad hasta encontrar la raiz."
   ]
  },
  {
   "cell_type": "markdown",
   "metadata": {
    "collapsed": false
   },
   "source": [
    "Dado un paracaidista debemos encontrar la friccion necesaria para que el caiga a una velocidad deseada y no sufrir daño.\n",
    "\n",
    "$ M = 68.1 kg $\n",
    "\n",
    "$ V = 40 m/s $\n",
    "\n",
    "$ t = 10 s $\n",
    "\n",
    "$ g = 9.8 m/s^2 $\n",
    "\n",
    "$ f(c) = \\frac{gm}{c} (1-e^{\\frac{-mc}{10}}) $\n",
    "\n"
   ]
  },
  {
   "cell_type": "code",
   "execution_count": 0,
   "metadata": {
    "collapsed": false
   },
   "outputs": [
    {
     "name": "stderr",
     "output_type": "stream",
     "text": [
      "/ext/anaconda5/lib/python3.6/site-packages/ipykernel/__main__.py:7: RuntimeWarning: divide by zero encountered in double_scalars\n",
      "/ext/anaconda5/lib/python3.6/site-packages/ipykernel/__main__.py:7: RuntimeWarning: invalid value encountered in double_scalars\n"
     ]
    },
    {
     "name": "stdout",
     "output_type": "stream",
     "text": [
      "La raiz es 16.67969\n"
     ]
    },
    {
     "data": {
      "image/png": "[encoded data removed]"
     },
     "execution_count": 0,
     "metadata": {
      "image/png": {
       "height": 250,
       "width": 383
      }
     },
     "output_type": "execute_result"
    }
   ],
   "source": [
    "#probl paracaidas\n",
    "import math\n",
    "import numpy as np\n",
    "import matplotlib.pyplot as plt\n",
    "\n",
    "def fun(c):\n",
    "    return (667.28/c)*(1 - math.exp(-6.81*c))-40\n",
    "\n",
    "#elegir valores iniciales de x0 y x1\n",
    "#Donde haya cambio de signos\n",
    "xarray = np.linspace(0, 40, 100)\n",
    "yarray = np.zeros(100)\n",
    "\n",
    "for i in range(100):\n",
    "    yarray[i] = fun(xarray[i])\n",
    "\n",
    "plt.plot(xarray, yarray)\n",
    "plt.grid()\n",
    "x0 = 10\n",
    "x1 = 25\n",
    "\n",
    "for i in range(10):\n",
    "    f0 = fun(x0)\n",
    "    f1 = fun(x1)\n",
    "    if f0*f1 > 0:\n",
    "        print(\"No hay raiz en este rango\")\n",
    "        break\n",
    "    x = (x0 + x1)/2\n",
    "    fx = fun(x)\n",
    "    if fx*f1 < 0:\n",
    "        x0 = x\n",
    "    else:\n",
    "        x1 = x\n",
    "    if abs(fx) < 0.001:\n",
    "        break\n",
    "print(\"La raiz es %.5f\" %x0)"
   ]
  },
  {
   "cell_type": "code",
   "execution_count": 0,
   "metadata": {
    "collapsed": false
   },
   "outputs": [
   ],
   "source": [
   ]
  }
 ],
 "metadata": {
  "kernelspec": {
   "display_name": "Python 3 (Anaconda 5)",
   "language": "python",
   "name": "anaconda5"
  },
  "language_info": {
   "codemirror_mode": {
    "name": "ipython",
    "version": 3
   },
   "file_extension": ".py",
   "mimetype": "text/x-python",
   "name": "python",
   "nbconvert_exporter": "python",
   "pygments_lexer": "ipython3",
   "version": "3.6.5"
  }
 },
 "nbformat": 4,
 "nbformat_minor": 0
}