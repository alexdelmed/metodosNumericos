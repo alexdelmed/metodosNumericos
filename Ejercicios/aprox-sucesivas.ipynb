{
 "cells": [
  {
   "cell_type": "markdown",
   "metadata": {
    "collapsed": false
   },
   "source": [
    "Aproximaciones sucesivas\n",
    "Funciones ejemplo x^2 + xy = 10x \n",
    "2\n",
    " +xy=10 y + 3xy^2 = 57y+3xy \n",
    "2\n",
    " =57"
   ]
  },
  {
   "cell_type": "code",
   "execution_count": 0,
   "metadata": {
    "collapsed": false
   },
   "outputs": [
   ],
   "source": [
    "def next_x(x,y):\n",
    "    return math.sqrt(10-x*y)\n",
    "\n",
    "def next_y(x,y):\n",
    "    return math.sqrt((57-y)/(3*x))\n",
    "\n",
    "x0 = 1.5\n",
    "y0 = 3.5\n",
    "\n",
    "E = 0.01\n",
    "\n",
    "for k in range(100):\n",
    "    xi = next_x(x0, y0)\n",
    "    yi = next_y(x0,y0)\n",
    "    Ex = abs(x0-xi)\n",
    "    Ey = abs(y0-yi)\n",
    "    x0 = xi\n",
    "    y0 = yi\n",
    "    if Ex<E and Ey<E:\n",
    "        break\n",
    "        \n",
    "print(\"La solucion es {0}\".format((x0,y0)))"
   ]
  }
 ],
 "metadata": {
  "kernelspec": {
   "display_name": "Python 3 (Anaconda 5)",
   "language": "python",
   "name": "anaconda5"
  },
  "language_info": {
   "codemirror_mode": {
    "name": "ipython",
    "version": 3
   },
   "file_extension": ".py",
   "mimetype": "text/x-python",
   "name": "python",
   "nbconvert_exporter": "python",
   "pygments_lexer": "ipython3",
   "version": "3.6.5"
  }
 },
 "nbformat": 4,
 "nbformat_minor": 0
}