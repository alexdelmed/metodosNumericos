{
 "cells": [
  {
   "cell_type": "markdown",
   "metadata": {
    "collapsed": false
   },
   "source": [
    "# Factorizacion LU\n",
    "\n",
    "Hsdfas..  \n",
    "$x_1 + 2x_2 + 4x_3 = 11$\n",
    "$4x_1 + x_2 - x_3 = 0$\n",
    "$2x_1 + 5x_2 +2x_3 = 3$"
   ]
  },
  {
   "cell_type": "code",
   "execution_count": 0,
   "metadata": {
    "collapsed": false
   },
   "outputs": [
   ],
   "source": [
    "def createMatrix(m,n, valor=0):\n",
    "    C = []\n",
    "    for i in range(m):\n",
    "        C.append([])                            #could be c.append([valor]*n)\n",
    "        for j in range(n):\n",
    "            C[i].append(valor)\n",
    "    return C\n",
    "\n",
    "U = createMatrix(3,3)\n",
    "U = [1,2,4]\n",
    "U = [4,1,-1]\n",
    "U = [2,5,2]\n",
    "\n",
    "L = createMatrix(3,3)\n",
    "for i in range(len(L)):\n",
    "    L[i][i]=1\n",
    "\n",
    "print(\"L:\")\n",
    "for fila in range(len(L)):\n",
    "    print(L[fila])\n",
    "\n",
    "for i in range(3):\n",
    "    #print(\"HI\")\n",
    "    a = U[i][i]\n",
    "    if a==0:\n",
    "        print(\"La matrix no tiene LU\")\n",
    "        break\n",
    "    for j in range(i+1,3):\n",
    "        b = U[j][i]\n",
    "        c = -1*b/a\n",
    "        L[j][i] = -1*c\n",
    "        T = createMatrix(1,3)\n",
    "        for k in range(3):\n",
    "            T[0][k] = c * U[i][k]\n",
    "        for k in range(3):\n",
    "            U[j][k] += T[0][k]\n",
    "\n",
    "print(\"\\nSolucion L:\")\n",
    "for fila in range(len(L)):\n",
    "    print(L[fila])\n",
    "\n",
    "z = createMatriz(3,1,0)\n",
    "c = createMatriz(3,1,0)\n",
    "C[0] = [11]\n",
    "C[1] = [0]\n",
    "C[2] = [3]\n",
    "\n",
    "for i in range(3):\n",
    "    z[i][0] = c[i][0]\n",
    "    for j in range(3):\n",
    "        if i==j:\n",
    "            break\n",
    "        z[i][0] -= L[i][j]*z[j][0]\n",
    "\n",
    "print(\"\\nSolucion Z:\")\n",
    "for fila in range(len(z)):\n",
    "    print(z[fila])\n",
    "\n",
    "b = createMatriz(3,1)\n",
    "\n",
    "for i in range(2,-1,-1):\n",
    "    b[i][0] = z[i][0]\n",
    "    for j in range(2,-1,-1):\n",
    "        if i==j:\n",
    "            b[i][0] = b[i][0]/U[i][j]\n",
    "            break\n",
    "        b[i][0] -= U[i][j]*b[j][0]\n",
    "\n",
    "print(\"\\nSolucion Z:\")\n",
    "for fila in range(len(z)):\n",
    "    print(z[fila])"
   ]
  }
 ],
 "metadata": {
  "kernelspec": {
   "display_name": "Python 3 (Anaconda 5)",
   "language": "python",
   "name": "anaconda5"
  }
 },
 "nbformat": 4,
 "nbformat_minor": 0
}